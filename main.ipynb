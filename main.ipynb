{
 "cells": [
  {
   "cell_type": "code",
   "execution_count": 7,
   "metadata": {},
   "outputs": [],
   "source": [
    "import pandas as pd\n",
    "from docx import Document\n",
    "import base64\n",
    "from io import BytesIO\n",
    "from PIL import Image\n"
   ]
  },
  {
   "cell_type": "code",
   "execution_count": 8,
   "metadata": {},
   "outputs": [],
   "source": [
    "df = pd.read_csv('recieps.csv')"
   ]
  },
  {
   "cell_type": "code",
   "execution_count": 9,
   "metadata": {},
   "outputs": [],
   "source": [
    "SIGN_COL = \"חתימה\"\n",
    "AMOUNT_COL = \"סכום\"\n",
    "NAME_COL = \"שם\"\n",
    "ID_COL = \"תעודת זהות\"\n",
    "DATA_COL = \"responseDate\""
   ]
  },
  {
   "cell_type": "code",
   "execution_count": 10,
   "metadata": {},
   "outputs": [],
   "source": [
    "TITLE = \"חתימת נבדק\""
   ]
  },
  {
   "cell_type": "code",
   "execution_count": 11,
   "metadata": {},
   "outputs": [],
   "source": [
    "def create_doc(row):\n",
    "    doc = Document()\n",
    "    # Set RTL properties for the entire document\n",
    "    doc.styles['Normal'].font.rtl = True\n",
    "    doc.add_heading(TITLE, 0)\n",
    "    doc.add_paragraph(f\"שם: {row[NAME_COL]}\")\n",
    "    doc.add_paragraph(f\"תעודת זהות: {row[ID_COL]}\")\n",
    "    doc.add_paragraph(f\"סכום: {row[AMOUNT_COL]}\")\n",
    "    doc.add_paragraph(f\"תאריך: {row[DATA_COL]}\")\n",
    "\n",
    "    # Convert base64 signature to image bytes\n",
    "    try:\n",
    "        base64_signature = row[SIGN_COL]\n",
    "        base64_signature = base64_signature.replace(\"data:image/png;base64,\", \"\")\n",
    "        signature_bytes = base64.b64decode(base64_signature)\n",
    "        img = Image.open(BytesIO(signature_bytes))\n",
    "        \n",
    "        # Save the image to a temporary file\n",
    "        temp_signature_path = \"temp_signature.png\"\n",
    "        img.save(temp_signature_path)\n",
    "\n",
    "        # Add the image to the document\n",
    "        doc.add_picture(temp_signature_path)\n",
    "\n",
    "        # Clean up: remove the temporary signature image file\n",
    "        import os\n",
    "        os.remove(temp_signature_path)\n",
    "    except Exception as e:\n",
    "        print(f\"Failed to add signature for {row[NAME_COL]}\")\n",
    "        print(e)\n",
    "        doc.add_paragraph(f\"חתימה: {row[SIGN_COL]}\")\n",
    "    \n",
    "    doc.save(f\"result/{row[NAME_COL]}.docx\")\n"
   ]
  },
  {
   "cell_type": "code",
   "execution_count": 12,
   "metadata": {},
   "outputs": [],
   "source": [
    "for index, row in df.iterrows():\n",
    "    create_doc(row)"
   ]
  }
 ],
 "metadata": {
  "kernelspec": {
   "display_name": ".venv",
   "language": "python",
   "name": "python3"
  },
  "language_info": {
   "codemirror_mode": {
    "name": "ipython",
    "version": 3
   },
   "file_extension": ".py",
   "mimetype": "text/x-python",
   "name": "python",
   "nbconvert_exporter": "python",
   "pygments_lexer": "ipython3",
   "version": "3.12.4"
  }
 },
 "nbformat": 4,
 "nbformat_minor": 2
}
